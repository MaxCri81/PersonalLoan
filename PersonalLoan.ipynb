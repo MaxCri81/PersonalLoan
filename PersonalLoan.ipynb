{
 "cells": [
  {
   "cell_type": "markdown",
   "id": "d446b7c9",
   "metadata": {},
   "source": [
    "### Calculate the montly installment for a given Loan with a recursive function"
   ]
  },
  {
   "cell_type": "code",
   "execution_count": 16,
   "id": "03815768",
   "metadata": {},
   "outputs": [],
   "source": [
    "import math\n",
    "terms = 48\n",
    "loan = 8000\n",
    "rate = 8.37\n",
    "monthly_rate = rate / 12 / 100\n",
    "installments = loan / terms"
   ]
  },
  {
   "cell_type": "code",
   "execution_count": 17,
   "id": "c0f051ae",
   "metadata": {},
   "outputs": [],
   "source": [
    "total = [0,0]\n",
    "\n",
    "def recursive(loan: int, terms: int) -> list:\n",
    "    \"\"\"Return a list with 2 elements.\n",
    "    At index 0 is stored the remaing interest to be paid\n",
    "    At index 1 is stored the number of installements needed to clear\n",
    "    the loan with the interest added on top. \n",
    "    The installment amount is calculated without taking account of the interest.\n",
    "    The interest is computed monthly and added to the remaining loan.\n",
    "    \"\"\"\n",
    "    if loan < installments:\n",
    "        terms = 1\n",
    "        total[0] = loan\n",
    "        return total\n",
    "    else:\n",
    "        total[1] += 1;\n",
    "        return recursive(loan - installments + calcMonthlyInterest(loan), terms + 1)\n",
    "        "
   ]
  },
  {
   "cell_type": "code",
   "execution_count": 18,
   "id": "32cec32f",
   "metadata": {},
   "outputs": [],
   "source": [
    "def calcMonthlyInterest(amount: float) -> float:\n",
    "    \"\"\"Return the monthly interest amount\"\"\"\n",
    "    return amount * monthly_rate "
   ]
  },
  {
   "cell_type": "code",
   "execution_count": 23,
   "id": "e63dec67",
   "metadata": {},
   "outputs": [],
   "source": [
    "#recursive(loan, terms)"
   ]
  },
  {
   "cell_type": "code",
   "execution_count": 24,
   "id": "6a98373c",
   "metadata": {},
   "outputs": [],
   "source": [
    "#installments"
   ]
  },
  {
   "cell_type": "code",
   "execution_count": 21,
   "id": "34e4da73",
   "metadata": {},
   "outputs": [],
   "source": [
    "def calcMonthlyInstallments(totalRecursive: list) -> float:\n",
    "    \"\"\"Calculate the monthly installment with the interest split on all the installements\"\"\"\n",
    "    remainingInterest = totalRecursive[0]\n",
    "    remainingInstallementAmount = (totalRecursive[1] - terms) * installments\n",
    "    \n",
    "    return (installments + (remainingInterest + remainingInstallementAmount) / terms) "
   ]
  },
  {
   "cell_type": "code",
   "execution_count": 22,
   "id": "978352ae",
   "metadata": {},
   "outputs": [
    {
     "data": {
      "text/plain": [
       "196"
      ]
     },
     "execution_count": 22,
     "metadata": {},
     "output_type": "execute_result"
    }
   ],
   "source": [
    "total = [0,0]\n",
    "# Calculate the monthly installment, included of interest, and save the result to the new installment.\n",
    "installments = calcMonthlyInstallments(recursive(loan, terms))\n",
    "total = [0,0]\n",
    "# Calculate the monthly installment, included of interest, with the given new installment.\n",
    "math.ceil(calcMonthlyInstallments(recursive(loan, terms)))"
   ]
  },
  {
   "cell_type": "code",
   "execution_count": null,
   "id": "0a9fb093",
   "metadata": {},
   "outputs": [],
   "source": []
  }
 ],
 "metadata": {
  "kernelspec": {
   "display_name": "Python 3 (ipykernel)",
   "language": "python",
   "name": "python3"
  },
  "language_info": {
   "codemirror_mode": {
    "name": "ipython",
    "version": 3
   },
   "file_extension": ".py",
   "mimetype": "text/x-python",
   "name": "python",
   "nbconvert_exporter": "python",
   "pygments_lexer": "ipython3",
   "version": "3.10.9"
  }
 },
 "nbformat": 4,
 "nbformat_minor": 5
}
